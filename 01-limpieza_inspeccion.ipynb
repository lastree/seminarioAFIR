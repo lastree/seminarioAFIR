{
 "cells": [
  {
   "cell_type": "markdown",
   "metadata": {},
   "source": [
    "# Limpieza e inspección de los datos\n",
    "\n",
    "Para organizar nuestro notebook (script), dedicaremos la _celda_ inicial a la carga de librerías necesarias para la ejecución del script completo. Si necesitamos instalar algunas de ellas porque no estén disponibles en nuestro repositorio, las instalaremos y dejaremos indicado que hemos necesitado instalarlas. Esto servirá para la configuración del entorno de trabajo de futuros proyectos. :)   \n",
    "\n",
    "El notebook está esturcturado como sigue:\n",
    "* **Bloque A**: carga de datos.\n",
    "* **Bloque B**: inspección de datos.\n",
    "* **Bloque C**: limpieza de datos y exportación del conjunto resultante."
   ]
  },
  {
   "cell_type": "markdown",
   "metadata": {},
   "source": [
    "### Librerías"
   ]
  },
  {
   "cell_type": "code",
   "execution_count": null,
   "metadata": {},
   "outputs": [],
   "source": [
    "#install.packages(\"naniar\")\n",
    "library(naniar)\n",
    "library(ggplot2)"
   ]
  },
  {
   "cell_type": "markdown",
   "metadata": {},
   "source": [
    "## BLOQUE A: carga de los datos\n",
    "Los datos están en formato `.csv`, así que los leemos usando la función `read.csv()`."
   ]
  },
  {
   "cell_type": "code",
   "execution_count": null,
   "metadata": {},
   "outputs": [],
   "source": [
    "getwd() # Imprime directorio de trabajo\n",
    "data <- read.csv('data.csv') # Carga un fichero data\n",
    "head(data)  # Muestra los objetos cargados en memoria "
   ]
  },
  {
   "cell_type": "markdown",
   "metadata": {},
   "source": [
    "## BLOQUE B: inspección de los datos\n",
    "El objetivo de la inspección es la **familiarización con el conjunto de datos**. Algunas preguntas iniciales que podría estar bien hacerse pueden ser:\n",
    "* ¿En qué tipo de objeto están almacenados los datos? ¿Cuál es su dimensión?\n",
    "* ¿Hay datos ausentes? \n",
    "* ¿Cómo están distribuídas las variables? ¿Hay diferencias entre ausencia/presencia DEFECTO?\n",
    "* ¿Hay valores atípicos?\n",
    "* ..."
   ]
  },
  {
   "cell_type": "code",
   "execution_count": null,
   "metadata": {},
   "outputs": [],
   "source": [
    "# Tipo de objeto\n",
    "cat(\"El fichero es un\", class(data),\"de\", nrow(data), \"filas y\", ncol(data), \"columnas.\")\n",
    "head(data)"
   ]
  },
  {
   "cell_type": "code",
   "execution_count": null,
   "metadata": {},
   "outputs": [],
   "source": [
    "# Ausencias\n",
    "vis_miss(data)"
   ]
  },
  {
   "cell_type": "code",
   "execution_count": null,
   "metadata": {},
   "outputs": [],
   "source": [
    "options(repr.plot.width=8, repr.plot.height=2.5)\n",
    "\n",
    "for (i in 1:19){\n",
    "    p <- ggplot(data)\n",
    "    p <- p + geom_histogram(aes(x=data[,i], y=..density.., fill=factor(defecto)), alpha = 0.2)\n",
    "    p <- p + geom_density(aes(x=data[,i], y =..density.., fill = factor(defecto), colour = factor(defecto)), alpha = 0.35)\n",
    "    p <- p + scale_x_continuous(name = names(data)[i])\n",
    "    p <- p + theme_minimal()\n",
    "    print(p)\n",
    "}"
   ]
  },
  {
   "cell_type": "code",
   "execution_count": null,
   "metadata": {},
   "outputs": [],
   "source": [
    "# Outliers\n",
    "options(repr.plot.width=8, repr.plot.height=2.5)\n",
    "\n",
    "for (i in 1:19){\n",
    "    p <- ggplot(data)\n",
    "    p <- p + geom_boxplot(aes(x=factor(defecto), y=data[,i], fill=factor(defecto)), alpha = 0.2)\n",
    "    p <- p + scale_y_continuous(name = names(data)[i])\n",
    "    p <- p + theme_minimal()\n",
    "    print(p)\n",
    "}"
   ]
  },
  {
   "cell_type": "code",
   "execution_count": null,
   "metadata": {},
   "outputs": [],
   "source": [
    "# quimico6 parece que es casi siempre 0.0010\n",
    "table(data$quimico6)"
   ]
  },
  {
   "cell_type": "markdown",
   "metadata": {},
   "source": [
    "## BLOQUE 3: limpieza\n",
    "Algunos aspectos a tratar son:\n",
    "* Ausencias -> eliminaremos filas que no estén completas\n",
    "* Baja varianza -> no trabajaremos con variables con sd < 0.005\n",
    "\n",
    "Al final de la limpieza exportamos el fichero como `dataPrepared.csv`."
   ]
  },
  {
   "cell_type": "code",
   "execution_count": null,
   "metadata": {},
   "outputs": [],
   "source": [
    "# Eliminamos ausencias \n",
    "???? \n",
    "cat(\"El fichero es un\", class(data),\"de\", nrow(data), \"filas y\", ncol(data), \"columnas.\")\n",
    "\n",
    "# Eliminamos variables con baja varianza (quimico9)\n",
    "???? "
   ]
  },
  {
   "cell_type": "code",
   "execution_count": null,
   "metadata": {},
   "outputs": [],
   "source": [
    "head(data)\n",
    "write.csv(data, file = \"dataPrepared.csv\", row.names=FALSE)"
   ]
  }
 ],
 "metadata": {
  "kernelspec": {
   "display_name": "R",
   "language": "R",
   "name": "ir"
  },
  "language_info": {
   "codemirror_mode": "r",
   "file_extension": ".r",
   "mimetype": "text/x-r-source",
   "name": "R",
   "pygments_lexer": "r",
   "version": "3.6.1"
  }
 },
 "nbformat": 4,
 "nbformat_minor": 2
}
